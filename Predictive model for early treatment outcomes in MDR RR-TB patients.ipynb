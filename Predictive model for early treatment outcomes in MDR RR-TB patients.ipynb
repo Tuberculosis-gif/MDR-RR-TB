{
 "cells": [
  {
   "cell_type": "markdown",
   "id": "86ad89a1b60e1ce3",
   "metadata": {
    "collapsed": false
   },
   "source": [
    "### 1. 导入依赖"
   ]
  },
  {
   "cell_type": "code",
   "execution_count": null,
   "id": "initial_id",
   "metadata": {
    "collapsed": true,
    "jupyter": {
     "outputs_hidden": true
    }
   },
   "outputs": [],
   "source": [
    "# 忽略警告\n",
    "import warnings\n",
    "warnings.filterwarnings(\"ignore\")\n",
    "\n",
    "import copy\n",
    "\n",
    "# 数据处理\n",
    "import numpy as np\n",
    "import pandas as pd\n",
    "\n",
    "pd.set_option('display.float_format', '{:.2f}'.format)\n",
    "from sklearn.preprocessing import StandardScaler\n",
    "\n",
    "# 采样\n",
    "from imblearn.over_sampling import SMOTE\n",
    "\n",
    "# 绘图\n",
    "import matplotlib.pyplot as plt\n",
    "import seaborn as sns\n",
    "import matplotlib as mpl\n",
    "\n",
    "# 设置中文字体\n",
    "mpl.rcParams['font.sans-serif'] = ['Heiti TC']\n",
    "\n",
    "# 单模型\n",
    "from sklearn.linear_model import LogisticRegression  # 逻辑回归 & 弹性网络\n",
    "from sklearn.neural_network import MLPClassifier  # ANN\n",
    "from sklearn.svm import SVC  # SVM\n",
    "from sklearn.ensemble import GradientBoostingClassifier  # 梯度提升决策树\n",
    "from sklearn.ensemble import RandomForestClassifier\n",
    "# 集成模型\n",
    "from sklearn.ensemble import VotingClassifier  # Voting 方法\n",
    "from sklearn.ensemble import StackingClassifier  # Stacking 方法\n",
    "\n",
    "# 数据集划分 & 网格搜索 & 交叉验证\n",
    "from sklearn.model_selection import GridSearchCV\n",
    "\n",
    "# 评估指标\n",
    "from sklearn.metrics import confusion_matrix, accuracy_score, f1_score, roc_curve, auc\n",
    "from sklearn.metrics import make_scorer\n",
    "from sklearn.inspection import permutation_importance"
   ]
  },
  {
   "cell_type": "markdown",
   "id": "4b65ea0bd4beeaf3",
   "metadata": {
    "collapsed": false
   },
   "source": [
    "### 2. 设置可调节超参数"
   ]
  },
  {
   "cell_type": "code",
   "execution_count": null,
   "id": "63035e9679f3e087",
   "metadata": {
    "collapsed": false
   },
   "outputs": [],
   "source": [
    "# 定义不同的模型和超参数\n",
    "RANDOM_NUMBER = 62964\n",
    "model_params = {\n",
    "    'LogisticRegression': {\n",
    "        'model': LogisticRegression(random_state=RANDOM_NUMBER, C=0.1),\n",
    "        'params': {},\n",
    "    },\n",
    "    'RandomForest': {\n",
    "        'model': RandomForestClassifier(random_state=RANDOM_NUMBER),\n",
    "        'params': {'n_estimators': [15, 20, 25], 'max_depth': [1, 3, 5], 'min_samples_split': [1, 3, 5]},\n",
    "    },\n",
    "    'SVM': {\n",
    "        'model': SVC(kernel='linear', probability=True, random_state=RANDOM_NUMBER),\n",
    "        'params': {'C': [0.1, 1, 5]},\n",
    "    },\n",
    "    'GradientBoosting': {\n",
    "        'model': GradientBoostingClassifier(random_state=RANDOM_NUMBER),\n",
    "        'params': {'n_estimators': [7, 11, 17], 'max_depth': [1, 3, 5], 'min_samples_split': [1, 3, 5]},\n",
    "    },\n",
    "    'ElasticNet': {\n",
    "        'model': LogisticRegression(penalty='elasticnet', solver='saga', random_state=RANDOM_NUMBER),\n",
    "        'params': {'C': [0.1, 1, 5], 'l1_ratio': [0.3, 0.5, 0.7]},\n",
    "    },\n",
    "    'ANN': {\n",
    "        'model': MLPClassifier(random_state=RANDOM_NUMBER),\n",
    "        'params': {'hidden_layer_sizes': [(20,), (20, 20)], 'activation': ['tanh', 'relu'],\n",
    "                   'max_iter': [200]},\n",
    "    }\n",
    "}"
   ]
  },
  {
   "cell_type": "markdown",
   "id": "8845c99143548e83",
   "metadata": {
    "collapsed": false
   },
   "source": [
    "### 3. 数据预处理"
   ]
  },
  {
   "cell_type": "code",
   "execution_count": null,
   "id": "71148bc1f7c5000",
   "metadata": {
    "collapsed": false
   },
   "outputs": [],
   "source": [
    "# 加载数据\n",
    "def get_data(path_inner, path_outer, test=False, balance_outer=False, sample=False):\n",
    "    df_inner = pd.read_excel(path_inner)\n",
    "    df_outer = pd.read_excel(path_outer)\n",
    "    df_inner['Results'] = df_inner['Results'] - 1\n",
    "    df_outer['Results'] = df_outer['Results'] - 1\n",
    "    # 对连续变量进行标准化处理\n",
    "    scaler = StandardScaler()\n",
    "    continuous_variable = ['Age', 'Lymphocyte']\n",
    "    df_inner[continuous_variable] = scaler.fit_transform(df_inner[continuous_variable])\n",
    "    df_outer[continuous_variable] = scaler.fit_transform(df_outer[continuous_variable])\n",
    "\n",
    "    if balance_outer:\n",
    "        # 将外部验证集数据配平\n",
    "        df_outer_positive = df_outer[df_outer['Results'] == 1].sample(30)\n",
    "        df_outer_negative = df_outer[df_outer['Results'] == 2].sample(30)\n",
    "        df_outer = pd.concat([df_outer_positive, df_outer_negative], axis=0)\n",
    "        print(\n",
    "            f\"随机抽取后外部验证集数据比例: {len(df_outer_sample[df_outer_sample['Results'] == 1])}(1, 阴性) : {len(df_outer_sample[df_outer_sample['Results'] == 0])}(0, 阳性)\")\n",
    "    else:\n",
    "        print(\n",
    "            f\"外部验证集数据比例: {len(df_outer[df_outer['Results'] == 1])}(1, 阴性) : {len(df_outer[df_outer['Results'] == 0])}(0, 阳性)\")\n",
    "\n",
    "    if test:\n",
    "        # 划分训练集和测试集 8:2\n",
    "        df_test, df_train = train_test_split(df_inner, test_size=0.8, random_state=RANDOM_NUMBER)\n",
    "        print(\n",
    "            f\"训练集数据比例: {len(df_train[df_train['Results'] == 1])}(1, 阴性) : {len(df_train[df_train['Results'] == 0])}(0, 阳性)\")\n",
    "        print(\n",
    "            f\"测试集数据比例: {len(df_test[df_test['Results'] == 1])}(1, 阴性) : {len(df_test[df_test['Results'] == 0])}(0, 阳性)\")\n",
    "        if sample:\n",
    "            # SMOTE过采样: 1. 随机选择一个少数类样本 2. 从最近邻中找到样本 3. 生成合成样本\n",
    "            smote = SMOTE(sampling_strategy='auto', random_state=RANDOM_NUMBER)\n",
    "            df_train_resampling = pd.concat(smote.fit_resample(df_train.drop('Results', axis=1), df_train['Results']),\n",
    "                                            axis=1)\n",
    "            print(\n",
    "                f\"增强后训练集数据比例: {len(df_train_resampling[df_train_resampling['Results'] == 1])}(1, 阴性) : {len(df_train_resampling[df_train_resampling['Results'] == 0])}(0, 阳性)\")\n",
    "            return df_test, df_train, df_train_resampling, df_outer\n",
    "        else:\n",
    "            return df_test, df_train, df_outer\n",
    "    else:\n",
    "        # 不划分训练集和测试集\n",
    "        print(\n",
    "            f\"训练集数据比例: {len(df_inner[df_inner['Results'] == 1])}(1, 阴性) : {len(df_inner[df_inner['Results'] == 0])}(0, 阳性)\")\n",
    "        if sample:\n",
    "            smote = SMOTE(sampling_strategy='auto', random_state=RANDOM_NUMBER)\n",
    "            df_inner_resampling = pd.concat(smote.fit_resample(df_inner.drop('Results', axis=1), df_inner['Results']),\n",
    "                                            axis=1)\n",
    "            print(\n",
    "                f\"增强后训练集数据比例: {len(df_inner_resampling[df_inner_resampling['Results'] == 1])}(1, 阴性) : {len(df_inner_resampling[df_inner_resampling['Results'] == 0])}(0, 阳性)\")\n",
    "            return df_inner, df_inner_resampling, df_outer\n",
    "        else:\n",
    "            return df_inner, df_outer\n",
    "\n",
    "\n",
    "file_path_inner = \"Dataset/1-训练集+内部验证集.xls\"\n",
    "file_path_outer = \"Dataset/1-外部测试集-1.xls\"\n",
    "df_train, df_train_resampling, df_outer = get_data(file_path_inner, file_path_outer, test=False, balance_outer=False, sample=True)"
   ]
  },
  {
   "cell_type": "code",
   "execution_count": null,
   "id": "b26718fa1afd571",
   "metadata": {
    "collapsed": false
   },
   "outputs": [],
   "source": [
    "# 划分自变量和因变量\n",
    "X_train, y_train = df_train.drop('Results', axis=1), df_train['Results']\n",
    "X_train_resampling, y_train_resampling = df_train_resampling.drop('Results', axis=1), df_train_resampling['Results']\n",
    "X_valid, y_valid = df_outer.drop('Results', axis=1), df_outer['Results']"
   ]
  },
  {
   "cell_type": "markdown",
   "id": "630244d46096b8c0",
   "metadata": {
    "collapsed": false
   },
   "source": [
    "### 4. 模型训练"
   ]
  },
  {
   "cell_type": "code",
   "outputs": [],
   "source": [
    "def get_estimator(X, y):\n",
    "    # 1. 使用GridSearchCV进行超参数调整和模型选择\n",
    "    best_estimators = {}\n",
    "    for model_name, mp in model_params.items():\n",
    "        clf = GridSearchCV(mp['model'], mp['params'], scoring='roc_auc', cv=3)\n",
    "        clf.fit(X, y)\n",
    "        best_estimators[model_name] = clf.best_estimator_\n",
    "\n",
    "    ensemble_models = copy.deepcopy(best_estimators)\n",
    "    # 2. 采用 Stacking 方法进行集成学习\n",
    "    # 2.1 定义第二层学习器为 Logistics 模型\n",
    "    final_estimator = LogisticRegression(random_state=RANDOM_NUMBER)\n",
    "    # 2.2 创建 StackingClassifier\n",
    "    stacking_model = StackingClassifier(estimators=[(k, v) for k, v in ensemble_models.items()],\n",
    "                                        final_estimator=final_estimator)\n",
    "\n",
    "    # 2.3 训练模型\n",
    "    stacking_model.fit(X, y)\n",
    "\n",
    "    # 2.4 存储模型\n",
    "    best_estimators[\"Stacking\"] = stacking_model\n",
    "\n",
    "    # 3. 采用 Voting 方法进行集成学习\n",
    "    # 3.1 创建 VotingClassifier\n",
    "    # rf, svm, gb, ann\n",
    "    print(ensemble_models.keys())\n",
    "    voting_clf = VotingClassifier(estimators=[(k, v) for k, v in ensemble_models.items()], voting='soft')#, weights=[3, 2, 1, 2])\n",
    "\n",
    "    # 3.2 训练模型\n",
    "    voting_clf.fit(X, y)\n",
    "\n",
    "    # 3.3 存储模型\n",
    "    best_estimators[\"Voting\"] = voting_clf\n",
    "\n",
    "    return best_estimators"
   ],
   "metadata": {
    "collapsed": false
   },
   "id": "9c264e9d34adc17",
   "execution_count": null
  },
  {
   "cell_type": "code",
   "execution_count": null,
   "id": "1da939a53b124442",
   "metadata": {
    "collapsed": false
   },
   "outputs": [],
   "source": [
    "best_estimators = get_estimator(X_train_resampling, y_train_resampling)"
   ]
  },
  {
   "cell_type": "code",
   "outputs": [],
   "source": [
    "best_estimators"
   ],
   "metadata": {
    "collapsed": false
   },
   "id": "59d19f69398504f",
   "execution_count": null
  },
  {
   "cell_type": "markdown",
   "id": "6975e3930db98b94",
   "metadata": {
    "collapsed": false
   },
   "source": [
    " ### 5. 模型评估"
   ]
  },
  {
   "cell_type": "code",
   "outputs": [],
   "source": [
    "# 1. 定义计算指标的函数\n",
    "# 1.1 定义计算特异度（Specificity）的函数\n",
    "def get_specificity(y_true, y_pred):\n",
    "    tn, fp, fn, tp = confusion_matrix(y_true, y_pred).ravel()\n",
    "    return tn / (tn + fp + 0.0001)\n",
    "\n",
    "\n",
    "# 1.2 定义计算灵敏度（Sensitivity）的函数\n",
    "def get_sensitivity(y_true, y_pred):\n",
    "    tn, fp, fn, tp = confusion_matrix(y_true, y_pred).ravel()\n",
    "    return tp / (tp + fn + 0.0001)\n",
    "\n",
    "\n",
    "# 1.3 定义计算阳性预测值（PPV）的函数\n",
    "def get_ppv(y_true, y_pred):\n",
    "    tn, fp, fn, tp = confusion_matrix(y_true, y_pred).ravel()\n",
    "    return tp / (tp + fp + 0.0001)\n",
    "\n",
    "\n",
    "# 1.4 定义计算阴性预测值（NPV）的函数\n",
    "def get_npv(y_true, y_pred):\n",
    "    tn, fp, fn, tp = confusion_matrix(y_true, y_pred).ravel()\n",
    "    return tn / (tn + fn + 0.0001)\n",
    "\n",
    "\n",
    "# 1.5 定义计算 AUC 值的函数\n",
    "def get_auc(y_true, y_pred_prob):\n",
    "    # 计算 ROC 曲线\n",
    "    fpr, tpr, thresholds = roc_curve(y_true, y_pred_prob)\n",
    "    # 计算 AUC 值\n",
    "    auc_value = auc(fpr, tpr)\n",
    "    return auc_value"
   ],
   "metadata": {
    "collapsed": false
   },
   "id": "7edcd8e0c34f1b28",
   "execution_count": null
  },
  {
   "cell_type": "code",
   "outputs": [],
   "source": [
    "# 2. 定义计算95%置信区间的方法（使用Bootstrap法）\n",
    "def bootstrap_metric(y_true, y_pred, metric_func, n_bootstrap=500, random_state=RANDOM_NUMBER):\n",
    "    np.random.seed(random_state)\n",
    "    bootstrapped_scores = []\n",
    "    indices = np.arange(len(y_pred))\n",
    "    y_true = y_true.to_numpy()\n",
    "\n",
    "    for _ in range(n_bootstrap):\n",
    "        # 随机抽样，允许重复\n",
    "        bootstrap_indices = np.random.choice(indices, size=len(indices), replace=True)\n",
    "        bootstrap_true = y_true[bootstrap_indices]\n",
    "        bootstrap_pred = y_pred[bootstrap_indices]\n",
    "        score = metric_func(bootstrap_true, bootstrap_pred)\n",
    "        bootstrapped_scores.append(score)\n",
    "\n",
    "    sorted_scores = np.sort(bootstrapped_scores)\n",
    "    lower = sorted_scores[int(0.025 * len(sorted_scores))]\n",
    "    upper = sorted_scores[int(0.975 * len(sorted_scores))]\n",
    "\n",
    "    return lower, upper\n",
    "\n",
    "\n",
    "# 3. 定义一个函数，用于将结果转换为字符串\n",
    "def get_str_res(score, ci):\n",
    "    # 保留两位小数\n",
    "    score = np.round(score, 2)\n",
    "    lower = np.round(ci[0], 2)\n",
    "    upper = np.round(ci[1], 2)\n",
    "    # 转换为字符串并拼接\n",
    "    return f\"{score:.2f} ({lower:.2f} - {upper:.2f})\""
   ],
   "metadata": {
    "collapsed": false
   },
   "id": "e943016525c26e21",
   "execution_count": null
  },
  {
   "cell_type": "code",
   "outputs": [],
   "source": [
    "# 4. 评估模型性能\n",
    "def evaluate_model_withCI(model, X, y, threshold):\n",
    "    # y_pred = model.predict(X_test)\n",
    "    y_pred_prob = model.predict_proba(X)[:, 1]  # 获取分类概率值\n",
    "    y_pred = (y_pred_prob >= threshold).astype(int)\n",
    "\n",
    "    # 计算混淆矩阵\n",
    "    # tn, fp, fn, tp = confusion_matrix(y_test, y_pred).ravel()\n",
    "\n",
    "    # 计算准确率\n",
    "    accuracy = accuracy_score(y, y_pred)\n",
    "    accuracy_ci = bootstrap_metric(y, y_pred, accuracy_score)\n",
    "    accuracy_res = get_str_res(accuracy, accuracy_ci)\n",
    "\n",
    "    # 计算灵敏度（Sensitivity）\n",
    "    sensitivity = get_sensitivity(y, y_pred)\n",
    "    sensitivity_ci = bootstrap_metric(y, y_pred, get_sensitivity)\n",
    "    sensitivity_res = get_str_res(sensitivity, sensitivity_ci)\n",
    "\n",
    "    # 计算特异度（Specificity）\n",
    "    specificity = get_specificity(y, y_pred)\n",
    "    specificity_ci = bootstrap_metric(y, y_pred, get_specificity)\n",
    "    specificity_res = get_str_res(specificity, specificity_ci)\n",
    "\n",
    "    # 计算阳性预测值（PPV）\n",
    "    ppv = get_ppv(y, y_pred)\n",
    "    ppv_ci = bootstrap_metric(y, y_pred, get_ppv)\n",
    "    ppv_res = get_str_res(ppv, ppv_ci)\n",
    "\n",
    "    # 计算阴性预测值（NPV）\n",
    "    npv = get_npv(y, y_pred)\n",
    "    npv_ci = bootstrap_metric(y, y_pred, get_npv)\n",
    "    npv_res = get_str_res(npv, npv_ci)\n",
    "\n",
    "    # 计算F1值\n",
    "    f1 = f1_score(y, y_pred)\n",
    "    f1_ci = bootstrap_metric(y, y_pred, f1_score)\n",
    "    f1_res = get_str_res(f1, f1_ci)\n",
    "\n",
    "    # 计算ROC曲线及AUC值\n",
    "    auc_value = get_auc(y, y_pred_prob)\n",
    "    auc_ci = bootstrap_metric(y, y_pred_prob, get_auc)\n",
    "    auc_res = get_str_res(auc_value, auc_ci)\n",
    "\n",
    "    return auc_res, accuracy_res, sensitivity_res, specificity_res, ppv_res, npv_res, f1_res\n",
    "\n",
    "\n",
    "def evaluate_model(model, X, y, threshold):\n",
    "    # y_pred = model.predict(X_test)\n",
    "    y_pred_prob = model.predict_proba(X)[:, 1]  # 获取分类概率值\n",
    "    y_pred = (y_pred_prob >= threshold).astype(int)\n",
    "\n",
    "    # 计算混淆矩阵\n",
    "    tn, fp, fn, tp = confusion_matrix(y, y_pred).ravel()\n",
    "\n",
    "    # 计算准确率\n",
    "    accuracy = accuracy_score(y, y_pred)\n",
    "\n",
    "    # 计算灵敏度（Sensitivity）\n",
    "    sensitivity = tp / (tp + fn + 0.0001)\n",
    "\n",
    "    # 计算特异度（Specificity）\n",
    "    specificity = tn / (tn + fp + 0.0001)\n",
    "\n",
    "    # 计算阳性预测值（PPV）\n",
    "    ppv = tp / (tp + fp + 0.0001)\n",
    "\n",
    "    # 计算阴性预测值（NPV）\n",
    "    npv = tn / (tn + fn + 0.0001)\n",
    "\n",
    "    # 计算F1值\n",
    "    f1 = f1_score(y, y_pred)\n",
    "\n",
    "    # 计算ROC曲线及AUC值\n",
    "    # 计算 ROC 曲线\n",
    "    fpr, tpr, thresholds = roc_curve(y, y_pred_prob)\n",
    "    # 计算 AUC 值\n",
    "    auc_value = auc(fpr, tpr)\n",
    "\n",
    "    return auc_value, accuracy, sensitivity, specificity, ppv, npv, f1\n",
    "    # return auc_res, accuracy_res, sensitivity_res, specificity_res, ppv_res, npv_res, f1_res"
   ],
   "metadata": {
    "collapsed": false
   },
   "id": "f680462ffd0e0454",
   "execution_count": null
  },
  {
   "cell_type": "code",
   "outputs": [],
   "source": [
    "# 5. 评估模型性能\n",
    "# 5.1 创建一个DataFrame用于存储结果｜\n",
    "results_train = pd.DataFrame(columns=['AUC', 'Accuracy', 'Sensitivity', 'Specificity', 'PPV', 'NPV', 'F1'], index=best_estimators.keys())\n",
    "results_valid = pd.DataFrame(columns=['AUC', 'Accuracy', 'Sensitivity', 'Specificity', 'PPV', 'NPV', 'F1'], index=best_estimators.keys())\n",
    "# 5.2 遍历每个模型，评估其性能并保存结果\n",
    "for model_name, estimator in best_estimators.items():\n",
    "    results_train.loc[model_name] = evaluate_model_withCI(estimator, X_train, y_train, threshold=0.5)\n",
    "    results_valid.loc[model_name] = evaluate_model_withCI(estimator, X_valid, y_valid, threshold=0.5)"
   ],
   "metadata": {
    "collapsed": false
   },
   "id": "30ae3ee129250957",
   "execution_count": null
  },
  {
   "cell_type": "code",
   "outputs": [],
   "source": [
    "# 6. 查看评估结果\n",
    "results_train"
   ],
   "metadata": {
    "collapsed": false
   },
   "id": "fb7cad95d1065af7",
   "execution_count": null
  },
  {
   "cell_type": "code",
   "outputs": [],
   "source": [
    "results_valid"
   ],
   "metadata": {
    "collapsed": false
   },
   "id": "a59b7ad5e255faf9",
   "execution_count": null
  },
  {
   "cell_type": "markdown",
   "source": [
    "### 6. 变量重要性"
   ],
   "metadata": {
    "collapsed": false
   },
   "id": "8bb15ee5efe5c46d"
  },
  {
   "cell_type": "code",
   "outputs": [],
   "source": [
    "lr_coef = pd.DataFrame(abs(best_estimators['LogisticRegression'].coef_.flatten()), index=X_train.columns, columns=['LogisticRegression'])\n",
    "rf_coef = pd.DataFrame(abs(best_estimators['RandomForest'].feature_importances_.flatten()), index=X_train.columns, columns=['RandomForest'])\n",
    "svm_coef = pd.DataFrame(abs(best_estimators['SVM'].coef_.flatten()), index=X_train.columns, columns=['SVM'])\n",
    "gb_coef = pd.DataFrame(abs(best_estimators['GradientBoosting'].feature_importances_.flatten()), index=X_train.columns, columns=['GradientBoosting'])\n",
    "en_coef = pd.DataFrame(abs(best_estimators['ElasticNet'].coef_.flatten()), index=X_train.columns, columns=['ElasticNet'])\n",
    "ann_coef = abs(pd.DataFrame(permutation_importance(best_estimators['ANN'], X_valid, y_valid, n_repeats=10, random_state=RANDOM_NUMBER)['importances_mean'], index=X_train.columns, columns=['ANN']))\n",
    "reverent_important = pd.concat([lr_coef, rf_coef, svm_coef, gb_coef, en_coef, ann_coef], axis=1)\n",
    "reverent_important = reverent_important.div(reverent_important.sum(axis=0)) * 100\n",
    "reverent_important"
   ],
   "metadata": {
    "collapsed": false
   },
   "id": "b6720b96c3e9dad8",
   "execution_count": null
  },
  {
   "cell_type": "markdown",
   "source": [
    "### 7. 绘图"
   ],
   "metadata": {
    "collapsed": false
   },
   "id": "640fbf8f63c2e307"
  },
  {
   "cell_type": "code",
   "outputs": [],
   "source": [
    "plt.figure(figsize=(10, 8))\n",
    "\n",
    "for name, model in best_estimators.items():\n",
    "    y_pred_prob = model.predict_proba(X_valid)[:, 1]  # 获取分类概率值\n",
    "    y_pred = (y_pred_prob >= 0.5).astype(int)\n",
    "    \n",
    "    # 计算ROC曲线的特异度（FPR）和灵敏度（TPR）\n",
    "    fpr, tpr, thresholds = roc_curve(y_valid, y_pred_prob)\n",
    "    # 计算AUC值\n",
    "    roc_auc = auc(fpr, tpr)\n",
    "    auc_ci = bootstrap_metric(y_valid, y_pred_prob, get_auc)\n",
    "    auc_res = get_str_res(roc_auc, auc_ci)\n",
    "    plt.plot(fpr, tpr, label=f'{name} (AUC = {auc_res})')\n",
    "\n",
    "plt.plot([0, 1], [0, 1], 'k--')  # 添加对角虚线\n",
    "plt.xlim([0.0, 1.0])\n",
    "plt.ylim([0.0, 1.05])\n",
    "plt.xlabel('1-特异度 (Specificity)')\n",
    "plt.ylabel('灵敏度 (Sensitivity)')\n",
    "plt.title('Receiver Operating Characteristic')\n",
    "plt.legend(loc=\"lower right\")"
   ],
   "metadata": {
    "collapsed": false
   },
   "id": "598efaf9e18b7d7c",
   "execution_count": null
  },
  {
   "cell_type": "code",
   "outputs": [],
   "source": [
    "plt.figure(figsize=(10, 8))\n",
    "\n",
    "for name, model in best_estimators.items():\n",
    "    y_pred_prob = model.predict_proba(X_train)[:, 1]  # 获取分类概率值\n",
    "    y_pred = (y_pred_prob >= 0.5).astype(int)\n",
    "    \n",
    "    # 计算ROC曲线的特异度（FPR）和灵敏度（TPR）\n",
    "    fpr, tpr, thresholds = roc_curve(y_train, y_pred_prob)\n",
    "    # 计算AUC值\n",
    "    roc_auc = auc(fpr, tpr)\n",
    "    auc_ci = bootstrap_metric(y_train, y_pred_prob, get_auc)\n",
    "    auc_res = get_str_res(roc_auc, auc_ci)\n",
    "    plt.plot(fpr, tpr, label=f'{name} (AUC = {auc_res})')\n",
    "\n",
    "plt.plot([0, 1], [0, 1], 'k--')  # 添加对角虚线\n",
    "plt.xlim([0.0, 1.0])\n",
    "plt.ylim([0.0, 1.05])\n",
    "plt.xlabel('1-特异度 (Specificity)')\n",
    "plt.ylabel('灵敏度 (Sensitivity)')\n",
    "plt.title('Receiver Operating Characteristic')\n",
    "plt.legend(loc=\"lower right\")"
   ],
   "metadata": {
    "collapsed": false
   },
   "id": "2e7e27edd8618f66",
   "execution_count": null
  }
 ],
 "metadata": {
  "kernelspec": {
   "display_name": "Python 3 (ipykernel)",
   "language": "python",
   "name": "python3"
  },
  "language_info": {
   "codemirror_mode": {
    "name": "ipython",
    "version": 3
   },
   "file_extension": ".py",
   "mimetype": "text/x-python",
   "name": "python",
   "nbconvert_exporter": "python",
   "pygments_lexer": "ipython3",
   "version": "3.11.9"
  }
 },
 "nbformat": 4,
 "nbformat_minor": 5
}
